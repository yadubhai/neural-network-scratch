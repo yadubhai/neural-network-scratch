{
 "cells": [
  {
   "attachments": {},
   "cell_type": "markdown",
   "metadata": {},
   "source": [
    "### Install dependencies"
   ]
  },
  {
   "cell_type": "code",
   "execution_count": null,
   "metadata": {},
   "outputs": [],
   "source": [
    "%pip install pillow"
   ]
  },
  {
   "attachments": {},
   "cell_type": "markdown",
   "metadata": {},
   "source": [
    "### Model implementation"
   ]
  },
  {
   "cell_type": "code",
   "execution_count": null,
   "metadata": {},
   "outputs": [],
   "source": [
    "from random import random\n",
    "\n",
    "class Perceptron:\n",
    "  def __init__(self, input_size) -> None:\n",
    "    self.weights = [0.5-random() for i in range(input_size+1)]\n",
    "  \n",
    "  def predict(self, X):\n",
    "    # Calculate y = w0*x0 + w1*x1 + w2*x2 ...\n",
    "    y = 0\n",
    "    for i in range(len(self.weights)):\n",
    "      y += self.weights[i] * X[i]\n",
    "    \n",
    "    # Apply step function\n",
    "    if y <= 0.0:\n",
    "      return 0\n",
    "    else:\n",
    "      return 1\n",
    "\n",
    "  def fit_data(self, X, y, learning_rate=0.001):\n",
    "    # prediction/forward step\n",
    "    prediction = self.predict(X)\n",
    "\n",
    "    # Learning/backward step\n",
    "    learn_diff = learning_rate * (y-prediction)\n",
    "    for i in range(len(self.weights)):\n",
    "      self.weights[i] += learn_diff * X[i]\n",
    "    \n",
    "    return prediction"
   ]
  },
  {
   "attachments": {},
   "cell_type": "markdown",
   "metadata": {},
   "source": [
    "### Data Loader implementation"
   ]
  },
  {
   "cell_type": "code",
   "execution_count": null,
   "metadata": {},
   "outputs": [],
   "source": [
    "from PIL import Image, ImageOps\n",
    "from random import randint\n",
    "import pathlib\n",
    "\n",
    "\n",
    "def load_folder_images(path):\n",
    "  folder = pathlib.Path(path)\n",
    "\n",
    "  all_images = []\n",
    "  for file_path in folder.iterdir():\n",
    "    # Read the 20x20 image into a one dimensional vector of length 400\n",
    "    image = Image.open(file_path)\n",
    "    image = ImageOps.grayscale(image)\n",
    "\n",
    "    # image.getdata flattens the image \n",
    "    # into one dimensional array\n",
    "    # ...first_row, ...second_row, ...third_row and so on\n",
    "    data = list(image.getdata(0))\n",
    "\n",
    "    # Normalize the data\n",
    "    # Grayscale values range from 0 to 255 so we scale by a factor of 255\n",
    "    data = [el/255 for el in data]\n",
    "\n",
    "    # Add the bias term\n",
    "    data = [1, *data]\n",
    "\n",
    "    all_images.append(data)\n",
    "  \n",
    "  return all_images\n",
    "\n",
    "def random_data(label_0, label_1):\n",
    "  if random() < 0.5:\n",
    "    return label_0[randint(0,len(label_0)-1)], 0\n",
    "  \n",
    "  return label_1[randint(0,len(label_1)-1)], 1\n"
   ]
  },
  {
   "attachments": {},
   "cell_type": "markdown",
   "metadata": {},
   "source": [
    "### Load the data"
   ]
  },
  {
   "cell_type": "code",
   "execution_count": null,
   "metadata": {},
   "outputs": [],
   "source": [
    "male_images = load_folder_images(\"./data/male/\")\n",
    "female_images = load_folder_images(\"./data/female/\")\n",
    "\n",
    "# Split into training and test images\n",
    "train_males = male_images[0:4500]\n",
    "train_females = female_images[0:4500]\n",
    "\n",
    "test_males = male_images[4500:5000]\n",
    "test_females = female_images[4500:5000]"
   ]
  },
  {
   "attachments": {},
   "cell_type": "markdown",
   "metadata": {},
   "source": [
    "### Model defination"
   ]
  },
  {
   "cell_type": "code",
   "execution_count": null,
   "metadata": {},
   "outputs": [],
   "source": [
    "model = Perceptron(20*20)"
   ]
  },
  {
   "attachments": {},
   "cell_type": "markdown",
   "metadata": {},
   "source": [
    "### Training the model"
   ]
  },
  {
   "cell_type": "code",
   "execution_count": null,
   "metadata": {},
   "outputs": [],
   "source": [
    "learning_rate = 0.001\n",
    "iterations = 50000\n",
    "\n",
    "for i in range(iterations):\n",
    "  X, y = random_data(train_males, train_females)\n",
    "  model.fit_data(X, y, learning_rate=learning_rate)"
   ]
  },
  {
   "attachments": {},
   "cell_type": "markdown",
   "metadata": {},
   "source": [
    "### Test the model"
   ]
  },
  {
   "cell_type": "code",
   "execution_count": null,
   "metadata": {},
   "outputs": [],
   "source": [
    "right_male = 0\n",
    "right_female = 0\n",
    "wrong_male = 0\n",
    "wrong_female = 0\n",
    "\n",
    "for male, female in zip(test_males, test_females):\n",
    "  # Predict the male data\n",
    "  if model.predict(male) == 0.0:\n",
    "    right_male += 1\n",
    "  else:\n",
    "    wrong_male += 1\n",
    "  \n",
    "  # Predict the female data\n",
    "  if model.predict(female) == 1.0:\n",
    "    right_female += 1\n",
    "  else:\n",
    "    wrong_female += 1\n",
    "  \n",
    "accuracy = (right_male + right_female)/1000\n",
    "\n",
    "print(f\"The accuracy is {accuracy}\")"
   ]
  }
 ],
 "metadata": {
  "kernelspec": {
   "display_name": "Python 3",
   "language": "python",
   "name": "python3"
  },
  "language_info": {
   "codemirror_mode": {
    "name": "ipython",
    "version": 3
   },
   "file_extension": ".py",
   "mimetype": "text/x-python",
   "name": "python",
   "nbconvert_exporter": "python",
   "pygments_lexer": "ipython3",
   "version": "3.11.0"
  },
  "orig_nbformat": 4
 },
 "nbformat": 4,
 "nbformat_minor": 2
}
